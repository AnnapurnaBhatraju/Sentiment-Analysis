{
 "cells": [
  {
   "cell_type": "code",
   "execution_count": 20,
   "id": "879221a1-037b-4edf-a770-7776c9e179dc",
   "metadata": {},
   "outputs": [
    {
     "name": "stderr",
     "output_type": "stream",
     "text": [
      "Device set to use cpu\n"
     ]
    }
   ],
   "source": [
    "from transformers import pipeline\n",
    "\n",
    "areas = [\n",
    "    \"dining\", \"reception\", \"room service\", \"cleanliness\", \"facilities\", \"staff behavior\",\n",
    "    \"amenities\", \"check-in process\", \"check-out process\", \"billing and payment\", \"wi-fi and connectivity\",\n",
    "    \"security measures\", \"parking facilities\", \"noise levels\", \"air conditioning and heating\",\n",
    "    \"pool and spa services\", \"event or conference arrangements\", \"elevator services\",\n",
    "    \"room lighting\", \"laundry services\", \"maintenance\", \"customer service\", \"staff behavior\"\n",
    "]\n",
    "\n",
    "# Specify the model and tokenizer for sentiment analysis\n",
    "sentiment_analyzer = pipeline(\n",
    "    \"sentiment-analysis\",\n",
    "    model=\"distilbert-base-uncased-finetuned-sst-2-english\",  # Specify the model\n",
    "    tokenizer=\"distilbert-base-uncased\"  # Specify the tokenizer\n",
    ")\n",
    "\n",
    "# Define threshold for neutral classification\n",
    "NEUTRAL_THRESHOLD = 0.6\n",
    "\n",
    "# Function to analyze feedback\n",
    "def analyze_feedback(feedback):\n",
    "    # Get sentiment prediction\n",
    "    result = sentiment_analyzer(feedback)[0]\n",
    "    sentiment = result['label']\n",
    "    confidence = result['score']\n",
    "\n",
    "    # Classify as neutral if confidence is below the threshold\n",
    "    if confidence < NEUTRAL_THRESHOLD:\n",
    "        sentiment = \"NEUTRAL\"\n",
    "\n",
    "    # Identify areas if sentiment is negative\n",
    "    affected_areas = []\n",
    "    if sentiment == \"NEGATIVE\":\n",
    "        # Mapping phrases to areas (mapping based on common issues in the feedback)\n",
    "        feedback_lower = feedback.lower()\n",
    "        if \"customer service\" in feedback_lower:\n",
    "            affected_areas.append(\"Staff behavior\")\n",
    "        if \"blood\" in feedback_lower or \"sheets\" in feedback_lower:\n",
    "            affected_areas.append(\"Cleanliness\")\n",
    "        if \"staff\" in feedback_lower:\n",
    "            affected_areas.append(\"Staff behavior\")\n",
    "        if \"parking\" in feedback_lower:\n",
    "            affected_areas.append(\"Parking facilities\")\n",
    "        if \"valet\" in feedback_lower:\n",
    "            affected_areas.append(\"Parking facilities\")\n",
    "        # Check for other terms in areas list\n",
    "        for area in areas:\n",
    "            if area in feedback_lower and area not in affected_areas:\n",
    "                affected_areas.append(area.capitalize())\n",
    "\n",
    "    return sentiment, confidence, affected_areas\n",
    "\n",
    "# Function to get user feedback and analyze it\n",
    "def get_feedback():\n",
    "    print(\"Welcome to the Hotel Feedback Analysis Tool!\")\n",
    "    print(\"\\nEnter your feedback below:\")\n",
    "    user_feedback = input(\"> \")\n",
    "\n",
    "    # Analyze the feedback\n",
    "    sentiment, confidence, affected_areas = analyze_feedback(user_feedback)\n",
    "\n",
    "    # Display the results\n",
    "    print(f\"\\nFeedback sentiment: {sentiment}\")\n",
    "    print(f\"Confidence: {confidence:.2f}\")\n",
    "    if sentiment == \"NEGATIVE\":\n",
    "        if affected_areas:\n",
    "            print(\"Areas responsible for negative sentiment:\")\n",
    "            for area in affected_areas:\n",
    "                print(f\"- {area}\")\n",
    "        else:\n",
    "            print(\"No specific areas identified for improvement.\")\n"
   ]
  },
  {
   "cell_type": "code",
   "execution_count": 21,
   "id": "2ead0305-5fcd-4dc8-8cfb-fc4d6a6659cb",
   "metadata": {},
   "outputs": [
    {
     "name": "stdout",
     "output_type": "stream",
     "text": [
      "Welcome to the Hotel Feedback Analysis Tool!\n",
      "\n",
      "Enter your feedback below:\n"
     ]
    },
    {
     "name": "stdin",
     "output_type": "stream",
     "text": [
      ">  good choice hotel recommended sister, great location room nice, comfortable bed- quiet- staff helpful recommendations restaurants, pike market 4 block walk, stay,  \n"
     ]
    },
    {
     "name": "stdout",
     "output_type": "stream",
     "text": [
      "\n",
      "Feedback sentiment: POSITIVE\n",
      "Confidence: 1.00\n"
     ]
    }
   ],
   "source": [
    "get_feedback()"
   ]
  },
  {
   "cell_type": "code",
   "execution_count": 13,
   "id": "3df1f352-9efd-4d59-9f7b-8f7b24e25562",
   "metadata": {},
   "outputs": [
    {
     "name": "stdout",
     "output_type": "stream",
     "text": [
      "Welcome to the Hotel Feedback Analysis Tool!\n",
      "\n",
      "Enter your feedback below:\n"
     ]
    },
    {
     "name": "stdin",
     "output_type": "stream",
     "text": [
      ">  great location need internally upgrade advantage north end downtown seattle great restaurants nearby good prices, rooms need updated literally thought sleeping 1970 bed old pillows sheets, net result bad nights sleep, stay location, staff friendly,  \n"
     ]
    },
    {
     "name": "stdout",
     "output_type": "stream",
     "text": [
      "\n",
      "Feedback sentiment: NEGATIVE\n",
      "Confidence: 0.99\n",
      "Areas responsible for negative sentiment:\n",
      "- Cleanliness\n",
      "- Staff behavior\n"
     ]
    }
   ],
   "source": [
    "get_feedback()"
   ]
  },
  {
   "cell_type": "code",
   "execution_count": 14,
   "id": "3e32b4f0-deed-4e19-9d4b-db96bc4f2914",
   "metadata": {},
   "outputs": [
    {
     "name": "stdout",
     "output_type": "stream",
     "text": [
      "Welcome to the Hotel Feedback Analysis Tool!\n",
      "\n",
      "Enter your feedback below:\n"
     ]
    },
    {
     "name": "stdin",
     "output_type": "stream",
     "text": [
      ">  horrible customer service hotel stay february 3rd 4th 2007my friend picked hotel monaco appealing website online package included champagne late checkout 3 free valet gift spa weekend, friend checked room hours earlier came later, pulled valet young man just stood, asked valet open said, pull bags didn__Ã‡_Ã©_ offer help, got garment bag suitcase came car key room number says not valet, car park car street pull, left key working asked valet park car gets, went room fine bottle champagne oil lotion gift spa, dressed went came got bed noticed blood drops pillows sheets pillows, disgusted just unbelievable, called desk sent somebody 20 minutes later, swapped sheets left apologizing, sunday morning called desk speak management sheets aggravated rude, apparently no manager kind supervisor weekend wait monday morning, young man spoke said cover food adding person changed sheets said fresh blood rude tone, checkout 3pm package booked, 12 1:30 staff maids tried walk room opening door apologizing closing, people called saying check 12 remind package, finally packed things went downstairs check, quickly signed paper took, way took closer look room, unfortunately covered food offered charged valet, called desk ask charges lady answered snapped saying aware problem experienced monday like told earlier, life treated like hotel, not sure hotel constantly problems lucky ones stay recommend anybody know,  \n"
     ]
    },
    {
     "name": "stdout",
     "output_type": "stream",
     "text": [
      "\n",
      "Feedback sentiment: NEGATIVE\n",
      "Confidence: 1.00\n",
      "Areas responsible for negative sentiment:\n",
      "- Staff behavior\n",
      "- Cleanliness\n",
      "- Staff behavior\n",
      "- Parking facilities\n",
      "- Customer service\n"
     ]
    }
   ],
   "source": [
    "get_feedback()"
   ]
  },
  {
   "cell_type": "code",
   "execution_count": 15,
   "id": "d0d1d86b-c067-4dfc-a114-c9c638d9e293",
   "metadata": {},
   "outputs": [
    {
     "name": "stdout",
     "output_type": "stream",
     "text": [
      "Welcome to the Hotel Feedback Analysis Tool!\n",
      "\n",
      "Enter your feedback below:\n"
     ]
    },
    {
     "name": "stdin",
     "output_type": "stream",
     "text": [
      ">  disappointed, booking expedia got assigned room average view not elevated floor requested specifically issues housekeeping no attention details hair arrival carpet stains no proper restocking towels soap coffee constantly make requests express annoying.i hotel charmless cold return.other staff friendly,  \n"
     ]
    },
    {
     "name": "stdout",
     "output_type": "stream",
     "text": [
      "\n",
      "Feedback sentiment: NEGATIVE\n",
      "Confidence: 1.00\n",
      "Areas responsible for negative sentiment:\n",
      "- Staff behavior\n"
     ]
    }
   ],
   "source": [
    "get_feedback()"
   ]
  },
  {
   "cell_type": "code",
   "execution_count": 16,
   "id": "844e5cfb-8d92-4dad-a9ab-412bb740c2a3",
   "metadata": {},
   "outputs": [
    {
     "name": "stdout",
     "output_type": "stream",
     "text": [
      "Welcome to the Hotel Feedback Analysis Tool!\n",
      "\n",
      "Enter your feedback below:\n"
     ]
    },
    {
     "name": "stdin",
     "output_type": "stream",
     "text": [
      ">  facilities good location structural issues** stayed property fairly regularly months, generally speaking nice hotel great concierge service location solid.however end staying seattle windy night like 14 mph winds gusts 20 mph not expect sleep, mentioned previous posts window seals interior walls components structure creek loudly rooms wind conditions, stayed towers 12th north 18th south type wind conditions general problem building, observed individuals complain directly desk 2 3 4 morning, overall good hotel stay risk getting windy night different opinion important hotel,  \n"
     ]
    },
    {
     "name": "stdout",
     "output_type": "stream",
     "text": [
      "\n",
      "Feedback sentiment: POSITIVE\n",
      "Confidence: 0.75\n"
     ]
    }
   ],
   "source": [
    "get_feedback()"
   ]
  },
  {
   "cell_type": "code",
   "execution_count": 17,
   "id": "092f58e5-77e0-4573-b52c-25d65822b6c7",
   "metadata": {},
   "outputs": [
    {
     "name": "stdout",
     "output_type": "stream",
     "text": [
      "Welcome to the Hotel Feedback Analysis Tool!\n",
      "\n",
      "Enter your feedback below:\n"
     ]
    },
    {
     "name": "stdin",
     "output_type": "stream",
     "text": [
      ">  ok not great hotel heart downtown walking distance need, stayed overnight going play paramount nice walk hotel, bed comfy room service pretty fast, little convenience store block away avoid mini bar prices, agree reviewers room match price pay, used price feature payed 1/2 price listed westin website, ended small room right elevators hear people talking hall,  \n"
     ]
    },
    {
     "name": "stdout",
     "output_type": "stream",
     "text": [
      "\n",
      "Feedback sentiment: NEGATIVE\n",
      "Confidence: 0.98\n",
      "Areas responsible for negative sentiment:\n",
      "- Room service\n"
     ]
    }
   ],
   "source": [
    "get_feedback()"
   ]
  },
  {
   "cell_type": "code",
   "execution_count": 18,
   "id": "e5116dee-8622-4884-9972-26729f60f8b6",
   "metadata": {},
   "outputs": [
    {
     "name": "stdout",
     "output_type": "stream",
     "text": [
      "Welcome to the Hotel Feedback Analysis Tool!\n",
      "\n",
      "Enter your feedback below:\n"
     ]
    },
    {
     "name": "stdin",
     "output_type": "stream",
     "text": [
      ">  entirely trendy wife recently stayed w seattle enjoyed stay things prevented rating hotel higher average, n't coffee maker room, know seattle starbucks corner hotel stayed, secondly place nickel dime death, example 35 night parking 14 small ham cheese sandwich restaurant.i did not like walked hotel saturday night lobby turned popular nightclub seattle, literally d.j, spinning dance music records loud lobby, beautiful people not impressed, snobby wealthy self centered person hotel, dark decorations common areas artsy fartsy, reason wife stayed sea fair great rate w website, hotel located fantastic location, wo n't returning,  \n"
     ]
    },
    {
     "name": "stdout",
     "output_type": "stream",
     "text": [
      "\n",
      "Feedback sentiment: NEGATIVE\n",
      "Confidence: 0.98\n",
      "Areas responsible for negative sentiment:\n",
      "- Parking facilities\n"
     ]
    }
   ],
   "source": [
    "get_feedback()"
   ]
  },
  {
   "cell_type": "code",
   "execution_count": 19,
   "id": "3c5e396e-b360-4d89-86bb-f774faf390db",
   "metadata": {},
   "outputs": [
    {
     "name": "stdout",
     "output_type": "stream",
     "text": [
      "Welcome to the Hotel Feedback Analysis Tool!\n",
      "\n",
      "Enter your feedback below:\n"
     ]
    },
    {
     "name": "stdin",
     "output_type": "stream",
     "text": [
      ">  The dining is worst, food quality is not good. Staff service is pathetic, and I have experienced the worst with maintenance of the hotel. I will never visit this again.\n"
     ]
    },
    {
     "name": "stdout",
     "output_type": "stream",
     "text": [
      "\n",
      "Feedback sentiment: NEGATIVE\n",
      "Confidence: 1.00\n",
      "Areas responsible for negative sentiment:\n",
      "- Staff behavior\n",
      "- Dining\n",
      "- Maintenance\n"
     ]
    }
   ],
   "source": [
    "get_feedback()\n"
   ]
  },
  {
   "cell_type": "markdown",
   "id": "fed47992-aa53-4690-9417-8121f076a1ad",
   "metadata": {},
   "source": [
    "# Zero-Shot Prompting"
   ]
  },
  {
   "cell_type": "markdown",
   "id": "a8a66543-2bd8-42fe-ad76-c627690076fd",
   "metadata": {},
   "source": [
    "### Negative Feedback"
   ]
  },
  {
   "cell_type": "code",
   "execution_count": 23,
   "id": "57f47bc2-8cc4-4c7f-82e7-eeac201d46bd",
   "metadata": {},
   "outputs": [
    {
     "name": "stdin",
     "output_type": "stream",
     "text": [
      "Enter feedback for Zero-Shot Prompting:  disappointed way stayed seattle w week june professional conference, previously stayed w new orleans loved second expecting great things w seattle, n't disappointed, think darkness equates ambiance, wrong, no loud music elevators, w elevators supposed like mini-clubs, meet party people new orleans w elevators, worst thing smell air conditioning went, best described cat little box pure cat urine, hotel management did not respond numerous complaints saying normal lavender musk smell w. right just sure air came room, luckily seattle great city lots do.i did email apology corporate logging complaint starwood stay, recieved marketing spam seattle w. stay seattle w wo n't recommend,  \n"
     ]
    },
    {
     "name": "stderr",
     "output_type": "stream",
     "text": [
      "Device set to use cpu\n"
     ]
    },
    {
     "name": "stdout",
     "output_type": "stream",
     "text": [
      "Sentiment using Zero-Shot Prompting: NEGATIVE\n"
     ]
    }
   ],
   "source": [
    "from transformers import pipeline\n",
    "\n",
    "# Define the Zero-Shot Prompting function\n",
    "def zero_shot_prompt(feedback):\n",
    "    sentiment_analyzer = pipeline(\"text-classification\", model=\"distilbert-base-uncased-finetuned-sst-2-english\")\n",
    "    \n",
    "    # Zero-shot prompt for sentiment analysis\n",
    "    prompt = f\"Classify the following feedback into 'positive', 'neutral', or 'negative': {feedback}\"\n",
    "    \n",
    "    result = sentiment_analyzer(prompt)\n",
    "    \n",
    "    return result[0]['label']\n",
    "\n",
    "# Test the Zero-Shot Prompting\n",
    "feedback = input(\"Enter feedback for Zero-Shot Prompting: \")\n",
    "result = zero_shot_prompt(feedback)\n",
    "print(f\"Sentiment using Zero-Shot Prompting: {result}\")\n"
   ]
  },
  {
   "cell_type": "markdown",
   "id": "91b02e9d-fba8-4eff-902a-edbe8f7861e0",
   "metadata": {},
   "source": [
    "### Positive Feedback"
   ]
  },
  {
   "cell_type": "code",
   "execution_count": 24,
   "id": "3f2b8cba-3863-4200-8aae-cc4a0ebe2cea",
   "metadata": {},
   "outputs": [
    {
     "name": "stdin",
     "output_type": "stream",
     "text": [
      "Enter feedback for Zero-Shot Prompting:  great stay, got decent price standard room king bed 175 taxes stayed night just christmas, service impeccable__Ã‡_Â”Ã¦rom bell hops, concierge sean really helpful, decor gorgeous location perfect-close shops restaurants, excellent hotel- highly recommended,  \n"
     ]
    },
    {
     "name": "stderr",
     "output_type": "stream",
     "text": [
      "Device set to use cpu\n"
     ]
    },
    {
     "name": "stdout",
     "output_type": "stream",
     "text": [
      "Sentiment using Zero-Shot Prompting: POSITIVE\n"
     ]
    }
   ],
   "source": [
    "from transformers import pipeline\n",
    "\n",
    "# Define the Zero-Shot Prompting function\n",
    "def zero_shot_prompt(feedback):\n",
    "    sentiment_analyzer = pipeline(\"text-classification\", model=\"distilbert-base-uncased-finetuned-sst-2-english\")\n",
    "    \n",
    "    # Zero-shot prompt for sentiment analysis\n",
    "    prompt = f\"Classify the following feedback into 'positive', 'neutral', or 'negative': {feedback}\"\n",
    "    \n",
    "    result = sentiment_analyzer(prompt)\n",
    "    \n",
    "    return result[0]['label']\n",
    "\n",
    "# Test the Zero-Shot Prompting\n",
    "feedback = input(\"Enter feedback for Zero-Shot Prompting: \")\n",
    "result = zero_shot_prompt(feedback)\n",
    "print(f\"Sentiment using Zero-Shot Prompting: {result}\")\n"
   ]
  },
  {
   "cell_type": "markdown",
   "id": "e6221ded-01a5-400c-b1d3-7140492b714d",
   "metadata": {},
   "source": [
    "# One-Shot Prompting"
   ]
  },
  {
   "cell_type": "markdown",
   "id": "541d58cc-3351-4db8-80a7-daf552c2a02f",
   "metadata": {},
   "source": [
    "### Negative Feedback"
   ]
  },
  {
   "cell_type": "code",
   "execution_count": 28,
   "id": "0baa5c9d-2460-40f1-be00-27ca8b5ed41a",
   "metadata": {},
   "outputs": [
    {
     "name": "stdin",
     "output_type": "stream",
     "text": [
      "Enter feedback for One-Shot Prompting:  big disappointment desk w hotel august 12-15,2004. arrived 11:30am told n't check till 3pm, no choice open suitcase lobby things need city walking pictures, suitcase placed storage meantime, came 7pm night check, desk girl asked credit card did, asked id picture, told suitcase storage, told need, told not going open suitcase lobby second time humiliating, hotel manager said thing need id n't offer alternative suggested room suitcase open privately, ofer apologies, finally desk girl suggested check staff room suitcase able id picture, agreed this.this shows hotel supposed cool desk hotel manager n't, told staff hotel manager coming day big group 70-80 people incident not pass unnoticed management coordinating people think 10 times decide book w hotel future meeting,  \n"
     ]
    },
    {
     "name": "stderr",
     "output_type": "stream",
     "text": [
      "Device set to use cpu\n"
     ]
    },
    {
     "name": "stdout",
     "output_type": "stream",
     "text": [
      "Sentiment using One-Shot Prompting: NEGATIVE\n"
     ]
    }
   ],
   "source": [
    "from transformers import pipeline\n",
    "\n",
    "# Define the One-Shot Prompting function\n",
    "def one_shot_prompt(feedback):\n",
    "    sentiment_analyzer = pipeline(\"sentiment-analysis\", model=\"distilbert-base-uncased-finetuned-sst-2-english\")\n",
    "    \n",
    "    # Analyze sentiment of the feedback using the pre-trained model\n",
    "    result = sentiment_analyzer(feedback)\n",
    "    \n",
    "    return result[0]['label']\n",
    "\n",
    "# Test the One-Shot Prompting\n",
    "feedback = input(\"Enter feedback for One-Shot Prompting: \")\n",
    "result = one_shot_prompt(feedback)\n",
    "print(f\"Sentiment using One-Shot Prompting: {result}\")\n"
   ]
  },
  {
   "cell_type": "markdown",
   "id": "bde931f5-5f5e-4244-b878-6c845ef60a40",
   "metadata": {},
   "source": [
    "### Positive Feedback"
   ]
  },
  {
   "cell_type": "code",
   "execution_count": 29,
   "id": "3acff284-453f-409d-b5f6-bac5f87be5d7",
   "metadata": {},
   "outputs": [
    {
     "name": "stdin",
     "output_type": "stream",
     "text": [
      "Enter feedback for One-Shot Prompting:  great stay w seattle, stayed july boyfriend 200 night, hotel romantic not bothered dark hallways, room noisy air conditioner quick desk moved new room no problems better view, room beautiful especially enjoyed bathroom comfy bathrobes, bed comfortable, worked gym small fine quick cardio workouts,  \n"
     ]
    },
    {
     "name": "stderr",
     "output_type": "stream",
     "text": [
      "Device set to use cpu\n"
     ]
    },
    {
     "name": "stdout",
     "output_type": "stream",
     "text": [
      "Sentiment using One-Shot Prompting: POSITIVE\n"
     ]
    }
   ],
   "source": [
    "from transformers import pipeline\n",
    "\n",
    "# Define the One-Shot Prompting function\n",
    "def one_shot_prompt(feedback):\n",
    "    sentiment_analyzer = pipeline(\"sentiment-analysis\", model=\"distilbert-base-uncased-finetuned-sst-2-english\")\n",
    "    \n",
    "    # Analyze sentiment of the feedback using the pre-trained model\n",
    "    result = sentiment_analyzer(feedback)\n",
    "    \n",
    "    return result[0]['label']\n",
    "\n",
    "# Test the One-Shot Prompting\n",
    "feedback = input(\"Enter feedback for One-Shot Prompting: \")\n",
    "result = one_shot_prompt(feedback)\n",
    "print(f\"Sentiment using One-Shot Prompting: {result}\")\n"
   ]
  },
  {
   "cell_type": "markdown",
   "id": "3a45a9c8-fcfe-4219-8415-6b47a203b487",
   "metadata": {},
   "source": [
    "# Sentiment Analysis on Feedback"
   ]
  },
  {
   "cell_type": "code",
   "execution_count": 30,
   "id": "441de4e7-87b7-4fbd-931c-61791a76d5d5",
   "metadata": {},
   "outputs": [
    {
     "name": "stdin",
     "output_type": "stream",
     "text": [
      "How many feedbacks would you like to enter?  4\n"
     ]
    },
    {
     "name": "stdout",
     "output_type": "stream",
     "text": [
      "\n",
      "Enter feedback #1:\n"
     ]
    },
    {
     "name": "stdin",
     "output_type": "stream",
     "text": [
      ">  great room stay stayed nights business trip great hotel great room great food near,  \n"
     ]
    },
    {
     "name": "stderr",
     "output_type": "stream",
     "text": [
      "Device set to use cpu\n"
     ]
    },
    {
     "name": "stdout",
     "output_type": "stream",
     "text": [
      "Sentiment for Feedback #1: POSITIVE\n",
      "\n",
      "Enter feedback #2:\n"
     ]
    },
    {
     "name": "stdin",
     "output_type": "stream",
     "text": [
      ">  great stay w just returned 5 night stay w seattle really enjoyed time, like w hotels lobby decor trendy dark moody, room large nice city views super-comfy bed big bathroom stocked fabulous bliss products best staying w hotel ask, really nice features hotel like cozy lobby big fireplace free hot chocolate tiny gym great bar, hotel well-located just blocks pike place market pioneer square literally door shopping, service friendly helpful.my complaint exorbitantly high cost extras including internet valet parking food, free wi-fi lobby ideal business travellers, overall really enjoyed w stay seattle future,  \n"
     ]
    },
    {
     "name": "stderr",
     "output_type": "stream",
     "text": [
      "Device set to use cpu\n"
     ]
    },
    {
     "name": "stdout",
     "output_type": "stream",
     "text": [
      "Sentiment for Feedback #2: POSITIVE\n",
      "\n",
      "Enter feedback #3:\n"
     ]
    },
    {
     "name": "stdin",
     "output_type": "stream",
     "text": [
      ">  big disappointment desk w hotel august 12-15,2004. arrived 11:30am told n't check till 3pm, no choice open suitcase lobby things need city walking pictures, suitcase placed storage meantime, came 7pm night check, desk girl asked credit card did, asked id picture, told suitcase storage, told need, told not going open suitcase lobby second time humiliating, hotel manager said thing need id n't offer alternative suggested room suitcase open privately, ofer apologies, finally desk girl suggested check staff room suitcase able id picture, agreed this.this shows hotel supposed cool desk hotel manager n't, told staff hotel manager coming day big group 70-80 people incident not pass unnoticed management coordinating people think 10 times decide book w hotel future meeting,  \n"
     ]
    },
    {
     "name": "stderr",
     "output_type": "stream",
     "text": [
      "Device set to use cpu\n"
     ]
    },
    {
     "name": "stdout",
     "output_type": "stream",
     "text": [
      "Sentiment for Feedback #3: NEGATIVE\n",
      "\n",
      "Enter feedback #4:\n"
     ]
    },
    {
     "name": "stdin",
     "output_type": "stream",
     "text": [
      ">  disappointed way stayed seattle w week june professional conference, previously stayed w new orleans loved second expecting great things w seattle, n't disappointed, think darkness equates ambiance, wrong, no loud music elevators, w elevators supposed like mini-clubs, meet party people new orleans w elevators, worst thing smell air conditioning went, best described cat little box pure cat urine, hotel management did not respond numerous complaints saying normal lavender musk smell w. right just sure air came room, luckily seattle great city lots do.i did email apology corporate logging complaint starwood stay, recieved marketing spam seattle w. stay seattle w wo n't recommend,  \n"
     ]
    },
    {
     "name": "stderr",
     "output_type": "stream",
     "text": [
      "Device set to use cpu\n"
     ]
    },
    {
     "name": "stdout",
     "output_type": "stream",
     "text": [
      "Sentiment for Feedback #4: NEGATIVE\n"
     ]
    }
   ],
   "source": [
    "from transformers import pipeline\n",
    "\n",
    "# Function to analyze sentiment of feedback\n",
    "def analyze_feedback(feedback):\n",
    "    sentiment_analyzer = pipeline(\"sentiment-analysis\", model=\"distilbert-base-uncased-finetuned-sst-2-english\")\n",
    "    \n",
    "    # Analyze sentiment of the feedback using the pre-trained model\n",
    "    result = sentiment_analyzer(feedback)\n",
    "    \n",
    "    return result[0]['label']\n",
    "\n",
    "# Function to handle multiple feedbacks input from the user\n",
    "def multiple_feedbacks():\n",
    "    try:\n",
    "        # Ask how many feedbacks the user wants to enter\n",
    "        num_feedbacks = int(input(\"How many feedbacks would you like to enter? \"))\n",
    "        \n",
    "        # Take multiple feedback inputs\n",
    "        for i in range(num_feedbacks):\n",
    "            print(f\"\\nEnter feedback #{i + 1}:\")\n",
    "            feedback = input(\"> \")\n",
    "            sentiment = analyze_feedback(feedback)\n",
    "            print(f\"Sentiment for Feedback #{i + 1}: {sentiment}\")\n",
    "    \n",
    "    except ValueError:\n",
    "        print(\"Please enter a valid number for the feedback count.\")\n",
    "\n",
    "# Call the function to start the process\n",
    "multiple_feedbacks()\n"
   ]
  },
  {
   "cell_type": "markdown",
   "id": "bd3b5657-4e03-4a38-ab16-b66835d10fac",
   "metadata": {},
   "source": [
    "# Few shot prompting"
   ]
  },
  {
   "cell_type": "code",
   "execution_count": 34,
   "id": "67dcc6c6-c9c5-44f9-93dc-7e8cf236bec2",
   "metadata": {},
   "outputs": [
    {
     "name": "stdin",
     "output_type": "stream",
     "text": [
      "Enter feedback for Few-Shot Prompting:  plush elegance, loved minute, usually try stay starwood hotels member points program, w seattle hippest starwood property stayed decorated rooms stunning reception friendly staff wall hung lcd guest room amazing felt pampered just sleeping comfortable bed pleasure resting on.the mood w seattle creates second valet car end night close eyes pure chic.do experience w seattle,  \n"
     ]
    },
    {
     "name": "stderr",
     "output_type": "stream",
     "text": [
      "Device set to use cpu\n"
     ]
    },
    {
     "name": "stdout",
     "output_type": "stream",
     "text": [
      "Sentiment using Few-Shot Prompting: POSITIVE\n"
     ]
    }
   ],
   "source": [
    "from transformers import pipeline\n",
    "\n",
    "# Define the Few-Shot Prompting function\n",
    "def few_shot_prompt(feedback):\n",
    "    sentiment_analyzer = pipeline(\"text-classification\", model=\"distilbert-base-uncased-finetuned-sst-2-english\")\n",
    "    \n",
    "    # Few-shot prompt for sentiment analysis\n",
    "    prompt = f\"\"\"\n",
    "    Here are a few examples of feedback and their corresponding sentiments:\n",
    "    \n",
    "    Feedback: 'I loved my stay, the room was great, and the service was impeccable.'\n",
    "    Sentiment: positive\n",
    "    \n",
    "    Feedback: 'The staff was rude, and the room was dirty. Will never come back.'\n",
    "    Sentiment: negative\n",
    "    \n",
    "    Feedback: 'The hotel was okay, nothing special, but decent for the price.'\n",
    "    Sentiment: neutral\n",
    "    \n",
    "    Now, classify the following feedback:\n",
    "    \n",
    "    Feedback: '{feedback}'\n",
    "    Sentiment:\n",
    "    \"\"\"\n",
    "    \n",
    "    # Get result from the model\n",
    "    result = sentiment_analyzer(prompt)\n",
    "    \n",
    "    # Return sentiment from the model prediction\n",
    "    return result[0]['label']\n",
    "\n",
    "# Test the Few-Shot Prompting\n",
    "feedback = input(\"Enter feedback for Few-Shot Prompting: \")\n",
    "result = few_shot_prompt(feedback)\n",
    "print(f\"Sentiment using Few-Shot Prompting: {result}\")\n"
   ]
  },
  {
   "cell_type": "markdown",
   "id": "3f61c3f8-e813-41fc-84cc-eb938567d83d",
   "metadata": {},
   "source": [
    "# Chain of Thought Prompting"
   ]
  },
  {
   "cell_type": "code",
   "execution_count": 42,
   "id": "61942f24-a8b7-4168-9633-4b492f072509",
   "metadata": {},
   "outputs": [
    {
     "name": "stderr",
     "output_type": "stream",
     "text": [
      "No model was supplied, defaulted to distilbert/distilbert-base-uncased-finetuned-sst-2-english and revision 714eb0f (https://huggingface.co/distilbert/distilbert-base-uncased-finetuned-sst-2-english).\n",
      "Using a pipeline without specifying a model name and revision in production is not recommended.\n",
      "Device set to use cpu\n"
     ]
    },
    {
     "name": "stdout",
     "output_type": "stream",
     "text": [
      "Welcome to the Hotel Feedback Analysis Tool!\n",
      "\n",
      "Enter how many feedbacks you would like to provide:\n"
     ]
    },
    {
     "name": "stdin",
     "output_type": "stream",
     "text": [
      ">  5\n"
     ]
    },
    {
     "name": "stdout",
     "output_type": "stream",
     "text": [
      "\n",
      "Enter feedback 1:\n"
     ]
    },
    {
     "name": "stdin",
     "output_type": "stream",
     "text": [
      ">  The room was lovely, but the air conditioning didn’t work properly, and the cleanliness was not up to the mark.\n"
     ]
    },
    {
     "name": "stdout",
     "output_type": "stream",
     "text": [
      "\n",
      "Feedback sentiment: NEGATIVE\n",
      "Confidence: 1.00\n",
      "Areas responsible for negative sentiment:\n",
      "- Cleanliness\n",
      "\n",
      "Enter feedback 2:\n"
     ]
    },
    {
     "name": "stdin",
     "output_type": "stream",
     "text": [
      ">  I had a great stay! The staff were friendly, and the amenities were excellent. I will definitely come back.\n"
     ]
    },
    {
     "name": "stdout",
     "output_type": "stream",
     "text": [
      "\n",
      "Feedback sentiment: POSITIVE\n",
      "Confidence: 1.00\n",
      "\n",
      "Enter feedback 3:\n"
     ]
    },
    {
     "name": "stdin",
     "output_type": "stream",
     "text": [
      ">  Terrible experience with check-in process. The staff was unhelpful, and it took over an hour to check in.\n"
     ]
    },
    {
     "name": "stdout",
     "output_type": "stream",
     "text": [
      "\n",
      "Feedback sentiment: NEGATIVE\n",
      "Confidence: 1.00\n",
      "Areas responsible for negative sentiment:\n",
      "- Check-in process\n",
      "\n",
      "Enter feedback 4:\n"
     ]
    },
    {
     "name": "stdin",
     "output_type": "stream",
     "text": [
      ">  The room was beautiful, but the air conditioning didn't work properly, and the housekeeping staff didn't clean the bathroom well. I also had trouble with the Wi-Fi during my stay, which was frustrating.\n"
     ]
    },
    {
     "name": "stdout",
     "output_type": "stream",
     "text": [
      "\n",
      "Feedback sentiment: NEGATIVE\n",
      "Confidence: 1.00\n",
      "No specific areas identified for improvement.\n",
      "\n",
      "Enter feedback 5:\n"
     ]
    },
    {
     "name": "stdin",
     "output_type": "stream",
     "text": [
      ">  I enjoyed the dining experience at the hotel, but the staff at the reception were rude and unhelpful. The pool area was also very dirty, and there was no one around to help with the cleaning.\n"
     ]
    },
    {
     "name": "stdout",
     "output_type": "stream",
     "text": [
      "\n",
      "Feedback sentiment: NEGATIVE\n",
      "Confidence: 1.00\n",
      "Areas responsible for negative sentiment:\n",
      "- Dining\n",
      "- Reception\n"
     ]
    }
   ],
   "source": [
    "from transformers import pipeline\n",
    "\n",
    "# Load the sentiment analysis pipeline (for sentiment classification)\n",
    "sentiment_analyzer = pipeline(\"sentiment-analysis\")\n",
    "\n",
    "# Expanded list of areas for feedback analysis\n",
    "areas = [\n",
    "    \"dining\", \"reception\", \"room service\", \"cleanliness\", \"facilities\", \"staff behavior\",\n",
    "    \"amenities\", \"check-in process\", \"check-out process\", \"billing and payment\", \"wi-fi and connectivity\",\n",
    "    \"security measures\", \"parking facilities\", \"noise levels\", \"air conditioning and heating\",\n",
    "    \"pool and spa services\", \"event or conference arrangements\", \"elevator services\",\n",
    "    \"room lighting\", \"laundry services\", \"maintenance\", \"customer service\"\n",
    "]\n",
    "\n",
    "# Define a threshold for neutral classification\n",
    "NEUTRAL_THRESHOLD = 0.6\n",
    "\n",
    "# Function to analyze feedback with Chain-of-Thought\n",
    "def analyze_feedback_with_cot(feedback):\n",
    "    # Simulate CoT reasoning by breaking down the feedback into smaller parts\n",
    "    cot_prompt = f\"\"\"\n",
    "    Let's analyze the feedback step by step:\n",
    "    1. Determine the sentiment of the feedback: Is it positive, negative, or neutral?\n",
    "    2. Identify the areas mentioned in the feedback that might require improvement.\n",
    "    3. If the sentiment is negative, specify which areas are mentioned in the feedback that need improvement.\n",
    "\n",
    "    Feedback: {feedback}\n",
    "    \"\"\"\n",
    "\n",
    "    # Get the sentiment of the feedback using sentiment analysis\n",
    "    sentiment_result = sentiment_analyzer(feedback)[0]\n",
    "    sentiment = sentiment_result['label']\n",
    "    confidence = sentiment_result['score']\n",
    "\n",
    "    # Classify as neutral if confidence is below the threshold\n",
    "    if confidence < NEUTRAL_THRESHOLD:\n",
    "        sentiment = \"NEUTRAL\"\n",
    "\n",
    "    # Initialize a list of affected areas\n",
    "    affected_areas = []\n",
    "\n",
    "    # If the sentiment is negative, proceed with the Chain-of-Thought analysis to identify affected areas\n",
    "    if sentiment == \"NEGATIVE\":\n",
    "        # Simulate reasoning by looking for relevant areas in the feedback\n",
    "        feedback_lower = feedback.lower()\n",
    "        for area in areas:\n",
    "            if area in feedback_lower and area not in affected_areas:\n",
    "                affected_areas.append(area.capitalize())\n",
    "\n",
    "    return sentiment, confidence, affected_areas\n",
    "\n",
    "# Interactive user input\n",
    "print(\"Welcome to the Hotel Feedback Analysis Tool!\")\n",
    "print(\"\\nEnter how many feedbacks you would like to provide:\")\n",
    "num_feedbacks = int(input(\"> \"))\n",
    "\n",
    "for i in range(num_feedbacks):\n",
    "    print(f\"\\nEnter feedback {i+1}:\")\n",
    "    user_feedback = input(\"> \")\n",
    "    \n",
    "    # Analyze the feedback using CoT internally\n",
    "    sentiment, confidence, affected_areas = analyze_feedback_with_cot(user_feedback)\n",
    "\n",
    "    # Display the final results\n",
    "    print(f\"\\nFeedback sentiment: {sentiment}\")\n",
    "    print(f\"Confidence: {confidence:.2f}\")\n",
    "    if sentiment == \"NEGATIVE\":\n",
    "        if affected_areas:\n",
    "            print(\"Areas responsible for negative sentiment:\")\n",
    "            for area in affected_areas:\n",
    "                print(f\"- {area}\")\n",
    "        else:\n",
    "            print(\"No specific areas identified for improvement.\")\n"
   ]
  },
  {
   "cell_type": "code",
   "execution_count": null,
   "id": "dbd01821-8fc5-47ed-8b2b-ac7f9fc7b334",
   "metadata": {},
   "outputs": [],
   "source": []
  }
 ],
 "metadata": {
  "kernelspec": {
   "display_name": "Python 3 (ipykernel)",
   "language": "python",
   "name": "python3"
  },
  "language_info": {
   "codemirror_mode": {
    "name": "ipython",
    "version": 3
   },
   "file_extension": ".py",
   "mimetype": "text/x-python",
   "name": "python",
   "nbconvert_exporter": "python",
   "pygments_lexer": "ipython3",
   "version": "3.11.2"
  }
 },
 "nbformat": 4,
 "nbformat_minor": 5
}
